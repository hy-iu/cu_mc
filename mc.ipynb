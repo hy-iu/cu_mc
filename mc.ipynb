{
 "cells": [
  {
   "cell_type": "code",
   "execution_count": 1,
   "metadata": {},
   "outputs": [],
   "source": [
    "from cumc3d import Box"
   ]
  },
  {
   "cell_type": "code",
   "execution_count": 2,
   "metadata": {},
   "outputs": [],
   "source": [
    "# import pycuda.autoinit\n",
    "# import pycuda.driver as drv\n",
    "# print(drv.Device(0).name())"
   ]
  },
  {
   "cell_type": "code",
   "execution_count": 3,
   "metadata": {},
   "outputs": [],
   "source": [
    "# from pycuda.curandom import rand as curand\n",
    "# arr = curand((10, 3)).get()"
   ]
  },
  {
   "cell_type": "code",
   "execution_count": 4,
   "metadata": {},
   "outputs": [
    {
     "name": "stdout",
     "output_type": "stream",
     "text": [
      "1.4999999664723873\n",
      "max_grid_size 66\n",
      "pressure_thero 68.99007208861302\n",
      "pressure_thero(r0=d/2) 34.29872244160105\n"
     ]
    },
    {
     "name": "stderr",
     "output_type": "stream",
     "text": [
      "  0%|          | 0/1000 [00:01<?, ?it/s]\n"
     ]
    },
    {
     "ename": "LaunchError",
     "evalue": "cuLaunchKernel failed: too many resources requested for launch",
     "output_type": "error",
     "traceback": [
      "\u001b[1;31m---------------------------------------------------------------------------\u001b[0m",
      "\u001b[1;31mLaunchError\u001b[0m                               Traceback (most recent call last)",
      "Cell \u001b[1;32mIn[4], line 1\u001b[0m\n\u001b[1;32m----> 1\u001b[0m box \u001b[38;5;241m=\u001b[39m \u001b[43mBox\u001b[49m\u001b[43m(\u001b[49m\u001b[43mbox_size\u001b[49m\u001b[38;5;241;43m=\u001b[39;49m\u001b[38;5;241;43m8\u001b[39;49m\u001b[43m,\u001b[49m\u001b[43m \u001b[49m\u001b[43mnum_particles\u001b[49m\u001b[43m \u001b[49m\u001b[38;5;241;43m=\u001b[39;49m\u001b[43m \u001b[49m\u001b[38;5;241;43m16384\u001b[39;49m\u001b[43m,\u001b[49m\u001b[43m \u001b[49m\u001b[43mstop\u001b[49m\u001b[38;5;241;43m=\u001b[39;49m\u001b[38;5;241;43m500\u001b[39;49m\u001b[43m,\u001b[49m\u001b[43m \u001b[49m\u001b[43mdt\u001b[49m\u001b[38;5;241;43m=\u001b[39;49m\u001b[38;5;241;43m0.5\u001b[39;49m\u001b[43m,\u001b[49m\u001b[43m \u001b[49m\u001b[43mT\u001b[49m\u001b[38;5;241;43m=\u001b[39;49m\u001b[38;5;241;43m1\u001b[39;49m\u001b[43m,\u001b[49m\u001b[43m \u001b[49m\u001b[43mmass\u001b[49m\u001b[38;5;241;43m=\u001b[39;49m\u001b[38;5;241;43m200\u001b[39;49m\u001b[43m,\u001b[49m\u001b[43m \u001b[49m\u001b[43md\u001b[49m\u001b[38;5;241;43m=\u001b[39;49m\u001b[38;5;241;43m0.2\u001b[39;49m\u001b[43m,\u001b[49m\u001b[43m \u001b[49m\u001b[43mbounded\u001b[49m\u001b[38;5;241;43m=\u001b[39;49m\u001b[38;5;28;43;01mTrue\u001b[39;49;00m\u001b[43m,\u001b[49m\u001b[43m \u001b[49m\u001b[43mn_test\u001b[49m\u001b[38;5;241;43m=\u001b[39;49m\u001b[38;5;241;43m1\u001b[39;49m\u001b[43m,\u001b[49m\u001b[43morder\u001b[49m\u001b[38;5;241;43m=\u001b[39;49m\u001b[38;5;241;43m2\u001b[39;49m\u001b[43m)\u001b[49m\n\u001b[0;32m      2\u001b[0m box\u001b[38;5;241m.\u001b[39mout_plot()\n",
      "File \u001b[1;32mc:\\Users\\hy-wu.DESKTOP-G355NC5\\1\\B\\cu_mc\\cumc3d.py:77\u001b[0m, in \u001b[0;36mBox.__init__\u001b[1;34m(self, box_size, num_particles, stop, dt, dt_get_states, T, mass, d, bounded, n_test, order, offset_pos, offsets)\u001b[0m\n\u001b[0;32m     75\u001b[0m collision_rates_o1 \u001b[38;5;241m=\u001b[39m gpuarray\u001b[38;5;241m.\u001b[39mzeros(\u001b[38;5;28mself\u001b[39m\u001b[38;5;241m.\u001b[39mnum_grids, np\u001b[38;5;241m.\u001b[39mfloat32)\n\u001b[0;32m     76\u001b[0m collision_rates_o2 \u001b[38;5;241m=\u001b[39m gpuarray\u001b[38;5;241m.\u001b[39mzeros(\u001b[38;5;28mself\u001b[39m\u001b[38;5;241m.\u001b[39mnum_grids, np\u001b[38;5;241m.\u001b[39mfloat32)\n\u001b[1;32m---> 77\u001b[0m \u001b[38;5;28;43mself\u001b[39;49m\u001b[38;5;241;43m.\u001b[39;49m\u001b[43mupdate_positions\u001b[49m\u001b[43m(\u001b[49m\u001b[43mprocess_counts\u001b[49m\u001b[43m,\u001b[49m\u001b[43m \u001b[49m\u001b[43mgrid\u001b[49m\u001b[43m,\u001b[49m\u001b[43m \u001b[49m\u001b[43mgrid_sizes\u001b[49m\u001b[43m,\u001b[49m\u001b[43m \u001b[49m\u001b[38;5;28;43mself\u001b[39;49m\u001b[38;5;241;43m.\u001b[39;49m\u001b[43mparticle_positions\u001b[49m\u001b[43m,\u001b[49m\u001b[43m \u001b[49m\u001b[38;5;28;43mself\u001b[39;49m\u001b[38;5;241;43m.\u001b[39;49m\u001b[43mparticle_velocities\u001b[49m\u001b[43m,\u001b[49m\u001b[43m \u001b[49m\u001b[43mpressure\u001b[49m\u001b[43m,\u001b[49m\u001b[43m \u001b[49m\u001b[38;5;28;43mself\u001b[39;49m\u001b[38;5;241;43m.\u001b[39;49m\u001b[43moffsets\u001b[49m\u001b[43m,\u001b[49m\u001b[43m \u001b[49m\u001b[43mnp\u001b[49m\u001b[38;5;241;43m.\u001b[39;49m\u001b[43mfloat32\u001b[49m\u001b[43m(\u001b[49m\u001b[43mbox_size\u001b[49m\u001b[43m)\u001b[49m\u001b[43m,\u001b[49m\u001b[43m \u001b[49m\u001b[43mnp\u001b[49m\u001b[38;5;241;43m.\u001b[39;49m\u001b[43mint32\u001b[49m\u001b[43m(\u001b[49m\u001b[38;5;28;43mself\u001b[39;49m\u001b[38;5;241;43m.\u001b[39;49m\u001b[43mmax_grid_size\u001b[49m\u001b[43m)\u001b[49m\u001b[43m,\u001b[49m\u001b[43m \u001b[49m\u001b[43mnp\u001b[49m\u001b[38;5;241;43m.\u001b[39;49m\u001b[43mfloat32\u001b[49m\u001b[43m(\u001b[49m\u001b[43mmass\u001b[49m\u001b[43m)\u001b[49m\u001b[43m,\u001b[49m\u001b[43m \u001b[49m\u001b[43mnp\u001b[49m\u001b[38;5;241;43m.\u001b[39;49m\u001b[43mfloat32\u001b[49m\u001b[43m(\u001b[49m\u001b[43mdt\u001b[49m\u001b[43m)\u001b[49m\u001b[43m,\u001b[49m\u001b[43m \u001b[49m\u001b[43mnp\u001b[49m\u001b[38;5;241;43m.\u001b[39;49m\u001b[43mint32\u001b[49m\u001b[43m(\u001b[49m\u001b[43mnum_particles\u001b[49m\u001b[43m)\u001b[49m\u001b[43m,\u001b[49m\u001b[43m \u001b[49m\u001b[43mnp\u001b[49m\u001b[38;5;241;43m.\u001b[39;49m\u001b[43mint32\u001b[49m\u001b[43m(\u001b[49m\u001b[38;5;28;43mself\u001b[39;49m\u001b[38;5;241;43m.\u001b[39;49m\u001b[43mbounded\u001b[49m\u001b[43m)\u001b[49m\u001b[43m,\u001b[49m\u001b[43m \u001b[49m\u001b[43mnp\u001b[49m\u001b[38;5;241;43m.\u001b[39;49m\u001b[43mint32\u001b[49m\u001b[43m(\u001b[49m\u001b[43moffset_pos\u001b[49m\u001b[43m)\u001b[49m\u001b[43m,\u001b[49m\u001b[43m \u001b[49m\u001b[43mblock\u001b[49m\u001b[38;5;241;43m=\u001b[39;49m\u001b[43m(\u001b[49m\u001b[38;5;241;43m256\u001b[39;49m\u001b[43m,\u001b[49m\u001b[38;5;241;43m1\u001b[39;49m\u001b[43m,\u001b[49m\u001b[38;5;241;43m1\u001b[39;49m\u001b[43m)\u001b[49m\u001b[43m,\u001b[49m\u001b[43m \u001b[49m\u001b[43mgrid\u001b[49m\u001b[38;5;241;43m=\u001b[39;49m\u001b[43m(\u001b[49m\u001b[43mnum_particles\u001b[49m\u001b[38;5;241;43m/\u001b[39;49m\u001b[38;5;241;43m/\u001b[39;49m\u001b[38;5;241;43m256\u001b[39;49m\u001b[43m,\u001b[49m\u001b[38;5;241;43m1\u001b[39;49m\u001b[43m,\u001b[49m\u001b[38;5;241;43m1\u001b[39;49m\u001b[43m)\u001b[49m\u001b[43m)\u001b[49m\n\u001b[0;32m     78\u001b[0m pressure \u001b[38;5;241m*\u001b[39m\u001b[38;5;241m=\u001b[39m \u001b[38;5;241m2\u001b[39m \u001b[38;5;241m*\u001b[39m mass \u001b[38;5;241m/\u001b[39m \u001b[38;5;241m6\u001b[39m \u001b[38;5;241m/\u001b[39m box_size \u001b[38;5;241m/\u001b[39m box_size \u001b[38;5;241m/\u001b[39m dt\n\u001b[0;32m     79\u001b[0m \u001b[38;5;28mself\u001b[39m\u001b[38;5;241m.\u001b[39mpressures\u001b[38;5;241m.\u001b[39mappend(pressure\u001b[38;5;241m.\u001b[39mget()[\u001b[38;5;241m0\u001b[39m])\n",
      "File \u001b[1;32mc:\\Users\\hy-wu.DESKTOP-G355NC5\\AppData\\Local\\Programs\\Python\\Python312\\Lib\\site-packages\\pycuda\\driver.py:509\u001b[0m, in \u001b[0;36m_add_functionality.<locals>.function_call\u001b[1;34m(func, *args, **kwargs)\u001b[0m\n\u001b[0;32m    505\u001b[0m     \u001b[38;5;28;01mfrom\u001b[39;00m \u001b[38;5;21;01mtime\u001b[39;00m \u001b[38;5;28;01mimport\u001b[39;00m time\n\u001b[0;32m    507\u001b[0m     start_time \u001b[38;5;241m=\u001b[39m time()\n\u001b[1;32m--> 509\u001b[0m \u001b[43mfunc\u001b[49m\u001b[38;5;241;43m.\u001b[39;49m\u001b[43m_launch_kernel\u001b[49m\u001b[43m(\u001b[49m\u001b[43mgrid\u001b[49m\u001b[43m,\u001b[49m\u001b[43m \u001b[49m\u001b[43mblock\u001b[49m\u001b[43m,\u001b[49m\u001b[43m \u001b[49m\u001b[43marg_buf\u001b[49m\u001b[43m,\u001b[49m\u001b[43m \u001b[49m\u001b[43mshared\u001b[49m\u001b[43m,\u001b[49m\u001b[43m \u001b[49m\u001b[38;5;28;43;01mNone\u001b[39;49;00m\u001b[43m)\u001b[49m\n\u001b[0;32m    511\u001b[0m \u001b[38;5;28;01mif\u001b[39;00m post_handlers \u001b[38;5;129;01mor\u001b[39;00m time_kernel:\n\u001b[0;32m    512\u001b[0m     Context\u001b[38;5;241m.\u001b[39msynchronize()\n",
      "\u001b[1;31mLaunchError\u001b[0m: cuLaunchKernel failed: too many resources requested for launch"
     ]
    }
   ],
   "source": [
    "box = Box(box_size=8, num_particles = 16384, stop=500, dt=0.5, T=1, mass=200, d=0.2, bounded=True, n_test=1,order=2)\n",
    "box.out_plot()"
   ]
  },
  {
   "cell_type": "code",
   "execution_count": null,
   "metadata": {},
   "outputs": [],
   "source": [
    "print(len(box.pressures_from_momentum))\n",
    "sum(box.pressures_from_momentum[-100:])/100"
   ]
  },
  {
   "cell_type": "code",
   "execution_count": null,
   "metadata": {},
   "outputs": [],
   "source": [
    "box1 = Box(box_size=32, stop=500, dt=0.5, T=1, mass=200, d=0.3, bounded=True, n_test=1,order=2)\n",
    "box1.out_plot()"
   ]
  },
  {
   "cell_type": "code",
   "execution_count": null,
   "metadata": {},
   "outputs": [],
   "source": [
    "sum(box1.pressures_from_momentum[-100:])/100"
   ]
  },
  {
   "cell_type": "code",
   "execution_count": null,
   "metadata": {},
   "outputs": [],
   "source": [
    "box1 = Box(box_size=16, stop=100, dt=0.5, T=1, mass=200, d=0.2, bounded=True, n_test=1,order=2)\n",
    "print(sum(box1.pressures_from_momentum[-100:])/100)\n",
    "box1.out_plot()"
   ]
  },
  {
   "cell_type": "code",
   "execution_count": null,
   "metadata": {},
   "outputs": [],
   "source": [
    "Box(box_size=32, stop=500, dt=0.5, T=1, mass=200, d=0.2, bounded=True, n_test=1,order=2).out_plot()"
   ]
  },
  {
   "cell_type": "code",
   "execution_count": null,
   "metadata": {},
   "outputs": [],
   "source": [
    "Box(box_size=32, stop=500, dt=0.1, T=1, mass=200, d=0.3, bounded=True, n_test=1,order=2).out_plot()"
   ]
  },
  {
   "cell_type": "code",
   "execution_count": null,
   "metadata": {},
   "outputs": [],
   "source": [
    "Box(box_size=16, stop=5000, dt=0.5, num_particles=16384, T=1, mass=200, d=0.2, bounded=True, n_test=1,order=2).out_plot()"
   ]
  },
  {
   "cell_type": "code",
   "execution_count": null,
   "metadata": {},
   "outputs": [],
   "source": [
    "Box(box_size=32, stop=200, dt=0.5, T=5, mass=200, d=0.4, bounded=False, n_test=1,order=2).out_plot()"
   ]
  },
  {
   "cell_type": "code",
   "execution_count": null,
   "metadata": {},
   "outputs": [],
   "source": [
    "sum(box.pressures[-1000:])/1000"
   ]
  },
  {
   "cell_type": "code",
   "execution_count": null,
   "metadata": {},
   "outputs": [],
   "source": [
    "import numpy as np\n",
    "box.num_particles * box.T / (box.box_size ** 3 - box.num_particles * 2/3*np.pi*0.4**3/8)"
   ]
  },
  {
   "cell_type": "code",
   "execution_count": null,
   "metadata": {},
   "outputs": [],
   "source": [
    "from tqdm import tqdm\n",
    "import numpy as np\n",
    "from pycuda import gpuarray\n",
    "\n",
    "dt=0.2\n",
    "for _ in tqdm(range(int(20000))):\n",
    "    pressure = gpuarray.zeros(1, np.float32)\n",
    "    grid = gpuarray.zeros((box.num_grids, box.max_grid_size), np.int32)\n",
    "    grid_sizes = gpuarray.zeros(box.num_grids, np.int32)\n",
    "    collision_rates_o0 = gpuarray.zeros(box.num_grids, np.float32)\n",
    "    collision_rates_o1 = gpuarray.zeros(box.num_grids, np.float32)\n",
    "    collision_rates_o2 = gpuarray.zeros(box.num_grids, np.float32)\n",
    "    box.update_positions(grid, grid_sizes, box.particle_positions, box.particle_velocities, pressure, np.float32(box.box_size), np.int32(box.max_grid_size), np.float32(box.mass), np.float32(dt), np.int32(box.num_particles), np.int32(box.bounded), block=(512,1,1), grid=(box.num_particles//512+1,1))\n",
    "    pressure *= 2 * box.mass / 6 / box.box_size / box.box_size / dt\n",
    "    box.pressures.append(pressure.get()[0])\n",
    "    collision_rand = box.collision_rands[np.random.randint(20)]\n",
    "    box.handle_collisions(grid, grid_sizes, box.particle_positions, box.particle_velocities, collision_rates_o0, collision_rates_o1, collision_rates_o2, np.float32(box.d), np.int32(box.box_size), np.int32(box.max_grid_size), np.float32(box.mass), np.float32(dt), np.int32(box.num_particles), collision_rand, np.int32(2), np.int32(box.bounded), block=(512,1,1), grid=(box.num_grids//512+1,1))\n",
    "    box.collision_mean_rates_o0.append(collision_rates_o0.get().mean())\n",
    "    box.collision_mean_rates_o1.append(collision_rates_o1.get().mean())\n",
    "    box.collision_mean_rates_o2.append(collision_rates_o2.get().mean())\n",
    "    Ek = 0.5 * box.mass * (box.particle_velocities.get() ** 2).sum() / box.num_particles\n",
    "    box.Eks.append(Ek)"
   ]
  },
  {
   "cell_type": "code",
   "execution_count": null,
   "metadata": {},
   "outputs": [],
   "source": [
    "import numpy as np\n",
    "import matplotlib.pyplot as plt\n",
    "from scipy.optimize import curve_fit\n",
    "fig, ax = plt.subplots(3, 3, figsize=(15, 15))\n",
    "ax[0,0].scatter(np.linspace(0, box.stop, len(box.collision_mean_rates_o0)), box.collision_mean_rates_o0, s=1)\n",
    "ax[0,0].set_title(\"Collision mean rates order 0\")\n",
    "ax[0,0].set_xlabel(\"t\")\n",
    "ax[0,1].scatter(np.linspace(0, box.stop, len(box.collision_mean_rates_o1)), box.collision_mean_rates_o1, s=1)\n",
    "ax[0,1].set_title(\"Collision mean rates order 1\")\n",
    "ax[0,1].set_xlabel(\"t\")\n",
    "ax[0,2].scatter(np.linspace(0, box.stop, len(box.collision_mean_rates_o2)), box.collision_mean_rates_o2, s=1)\n",
    "ax[0,2].set_title(\"Collision mean rates order 2\")\n",
    "ax[0,2].set_xlabel(\"t\")\n",
    "# ax[1,0].hist(0.5 * box.mass * (box.particle_velocities.get() ** 2).sum(-1), bins=200)\n",
    "ax[1,0].set_title(\"Kinetic energy distribution\")\n",
    "ax[1,0].set_xlabel(\"E\")\n",
    "# particle_energies = 0.5 * box.mass * (box.particle_velocities.get() ** 2).sum(-1)\n",
    "def exp_func(x, a, temp):\n",
    "    return a * np.exp(-x/temp)\n",
    "# hist, bins = np.histogram(particle_energies, bins=200)\n",
    "# bin_widths = np.diff(bins)\n",
    "# bin_centers = (bins[:-1] + bins[1:]) / 2\n",
    "# norm_factor = bin_widths * np.sqrt(bin_centers)\n",
    "# normalized_hist = hist / norm_factor\n",
    "# popt, pcov = curve_fit(exp_func, bin_centers, normalized_hist, bounds=([0, 0], [1e8, 2*box.T]))\n",
    "# fit_values = exp_func(bin_centers, *popt)\n",
    "# ax[1,1].bar(bin_centers, normalized_hist, width=bin_widths, align='edge', label='Data')\n",
    "# ax[1,1].plot(bin_centers, fit_values, 'r-', label='Fit: a=%.5f, T=%.5f' % tuple(popt))\n",
    "# ax[1,1].set_yscale('log')\n",
    "# ax[1,1].set_title(R\"$\\mathrm{d}N/\\sqrt{E}\\mathrm{d}E$\")\n",
    "# ax[1,1].set_xlabel(\"E\")\n",
    "# ax[1,1].legend()\n",
    "ax[1,2].scatter(np.linspace(0, box.stop, len(box.Eks)), box.Eks, s=1)\n",
    "ax[1,2].set_title(\"Kinetic energy\")\n",
    "ax[1,2].set_xlabel(\"t\")\n",
    "ax[2,0].scatter(np.linspace(0, box.stop, len(box.pressures)), box.pressures, s=1)\n",
    "ax[2,0].set_title(\"Pressure\")\n",
    "# ax[2,1].hist([box.particle_velocities.get()[:,0], box.particle_velocities.get()[:,1], box.particle_velocities.get()[:,2]], bins=200, histtype='step', label=['v_x', 'v_y', 'v_z'])\n",
    "ax[2,1].set_title(\"Velocity distribution\")\n",
    "ax[2,1].legend()\n",
    "# ax[2,2].hist([box.particle_positions.get()[:,0], box.particle_positions.get()[:,1], box.particle_positions.get()[:,2]], bins=200, histtype='step', label=['x', 'y', 'z'])\n",
    "ax[2,2].set_title(\"Position distribution\")\n",
    "ax[2,2].legend()\n",
    "# Ps = []\n",
    "# meaning = 100\n",
    "# for i in range(0, len(box.pressures), meaning):\n",
    "#     Ps.append(sum(box.pressures[i:i+meaning]) / meaning)\n",
    "# ax[2,1].scatter(np.linspace(0, box.stop, len(Ps)), Ps, s=1)\n",
    "# ax[2,1].set_title(\"pooled Pressure\")\n",
    "\n",
    "fig.tight_layout()\n",
    "plt.show()"
   ]
  }
 ],
 "metadata": {
  "kernelspec": {
   "display_name": "Python 3",
   "language": "python",
   "name": "python3"
  },
  "language_info": {
   "codemirror_mode": {
    "name": "ipython",
    "version": 3
   },
   "file_extension": ".py",
   "mimetype": "text/x-python",
   "name": "python",
   "nbconvert_exporter": "python",
   "pygments_lexer": "ipython3",
   "version": "3.12.7"
  }
 },
 "nbformat": 4,
 "nbformat_minor": 2
}
